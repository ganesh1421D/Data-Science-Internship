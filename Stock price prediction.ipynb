{
 "cells": [
  {
   "cell_type": "code",
   "execution_count": 46,
   "id": "20339573",
   "metadata": {},
   "outputs": [],
   "source": [
    "import numpy as np\n",
    "import pandas as pd\n",
    "from sklearn.preprocessing import MinMaxScaler\n",
    "import matplotlib.pyplot as plt"
   ]
  },
  {
   "cell_type": "code",
   "execution_count": 47,
   "id": "7ad0aba0",
   "metadata": {},
   "outputs": [],
   "source": [
    "import torch\n",
    "import torch.nn as nn"
   ]
  },
  {
   "cell_type": "code",
   "execution_count": 48,
   "id": "1d3a6308",
   "metadata": {},
   "outputs": [],
   "source": [
    "df= pd.read_csv(\"C:/Users/dasar/Downloads/Hotstarr.csv\")\n",
    "closed_prices = df[\"Close\"]"
   ]
  },
  {
   "cell_type": "code",
   "execution_count": 49,
   "id": "0c099ea3",
   "metadata": {},
   "outputs": [],
   "source": [
    "seq_len = 15"
   ]
  },
  {
   "cell_type": "code",
   "execution_count": 52,
   "id": "c2a0c467",
   "metadata": {},
   "outputs": [],
   "source": [
    "mm = MinMaxScaler()\n",
    "scaled_price = mm.fit_transform(np.array(closed_prices)[... , None]).squeeze()\n",
    "\n",
    "\n",
    "X=[]\n",
    "Y=[]"
   ]
  },
  {
   "cell_type": "code",
   "execution_count": 53,
   "id": "f00f169c",
   "metadata": {},
   "outputs": [],
   "source": [
    "for i in range(len(scaled_price) - seq_len):\n",
    "    X.append(scaled_price[i : i+ seq_len])\n",
    "    Y.append(scaled_price[i+seq_len])"
   ]
  },
  {
   "cell_type": "code",
   "execution_count": 54,
   "id": "a1a99439",
   "metadata": {},
   "outputs": [
    {
     "name": "stdout",
     "output_type": "stream",
     "text": [
      "[[[1.28939572e-03]\n",
      "  [1.31064270e-03]\n",
      "  [1.22788898e-03]\n",
      "  ...\n",
      "  [1.22229663e-03]\n",
      "  [1.12724194e-03]\n",
      "  [1.11158582e-03]]\n",
      "\n",
      " [[1.31064270e-03]\n",
      "  [1.22788898e-03]\n",
      "  [1.14401602e-03]\n",
      "  ...\n",
      "  [1.12724194e-03]\n",
      "  [1.11158582e-03]\n",
      "  [9.60616755e-04]]\n",
      "\n",
      " [[1.22788898e-03]\n",
      "  [1.14401602e-03]\n",
      "  [1.09369399e-03]\n",
      "  ...\n",
      "  [1.11158582e-03]\n",
      "  [9.60616755e-04]\n",
      "  [8.59969715e-04]]\n",
      "\n",
      " ...\n",
      "\n",
      " [[9.17648752e-01]\n",
      "  [9.22110713e-01]\n",
      "  [9.00317395e-01]\n",
      "  ...\n",
      "  [9.44029306e-01]\n",
      "  [9.93283551e-01]\n",
      "  [1.00000000e+00]]\n",
      "\n",
      " [[9.22110713e-01]\n",
      "  [9.00317395e-01]\n",
      "  [8.96732174e-01]\n",
      "  ...\n",
      "  [9.93283551e-01]\n",
      "  [1.00000000e+00]\n",
      "  [9.88649300e-01]]\n",
      "\n",
      " [[9.00317395e-01]\n",
      "  [8.96732174e-01]\n",
      "  [9.24146087e-01]\n",
      "  ...\n",
      "  [1.00000000e+00]\n",
      "  [9.88649300e-01]\n",
      "  [9.89917443e-01]]]\n"
     ]
    }
   ],
   "source": [
    "X = np.array(X)[... , None]\n",
    "print(X)"
   ]
  },
  {
   "cell_type": "code",
   "execution_count": 55,
   "id": "b37d4ceb",
   "metadata": {},
   "outputs": [
    {
     "name": "stdout",
     "output_type": "stream",
     "text": [
      "[[9.60616755e-04]\n",
      " [8.59969715e-04]\n",
      " [8.42076297e-04]\n",
      " ...\n",
      " [9.88649300e-01]\n",
      " [9.89917443e-01]\n",
      " [9.81118701e-01]]\n"
     ]
    }
   ],
   "source": [
    "Y = np.array(Y)[... ,None]\n",
    "print(Y)"
   ]
  },
  {
   "cell_type": "code",
   "execution_count": 57,
   "id": "71a4b589",
   "metadata": {},
   "outputs": [],
   "source": [
    "train_x = torch.from_numpy(X[:int(0.8*X.shape[0])]).float()\n",
    "train_y = torch.from_numpy(Y[:int(0.8*Y.shape[0])]).float()\n",
    "test_x = torch.from_numpy(X[:int(0.8*X.shape[0])]).float()\n",
    "test_y = torch.from_numpy(Y[:int(0.8*Y.shape[0])]).float()"
   ]
  },
  {
   "cell_type": "code",
   "execution_count": 58,
   "id": "235abd26",
   "metadata": {},
   "outputs": [],
   "source": [
    "class Model(nn.Module):\n",
    "    def __init__(self,input_size,hidden_size):\n",
    "        super().__init__()\n",
    "        self.lstm = nn.LSTM(input_size , hidden_size,batch_first=True)\n",
    "        self.fc=nn.Linear(hidden_size, 1)\n",
    "    def forward(self , x):\n",
    "        output,(hidden,cell)=self.lstm(x)\n",
    "        return self.fc(hidden[-1,:])"
   ]
  },
  {
   "cell_type": "code",
   "execution_count": 59,
   "id": "90052651",
   "metadata": {},
   "outputs": [],
   "source": [
    "model = Model(1,64)"
   ]
  },
  {
   "cell_type": "code",
   "execution_count": 60,
   "id": "7bcf7d4d",
   "metadata": {},
   "outputs": [],
   "source": [
    "optimizer=torch.optim.Adam(model.parameters(), lr=0.001)"
   ]
  },
  {
   "cell_type": "code",
   "execution_count": 61,
   "id": "e03e3fc8",
   "metadata": {},
   "outputs": [],
   "source": [
    "\n",
    "loss_fn = nn.MSELoss()"
   ]
  },
  {
   "cell_type": "code",
   "execution_count": 64,
   "id": "10cd1377",
   "metadata": {},
   "outputs": [],
   "source": [
    "num_epochs=50"
   ]
  },
  {
   "cell_type": "code",
   "execution_count": 65,
   "id": "2bde8603",
   "metadata": {},
   "outputs": [
    {
     "name": "stdout",
     "output_type": "stream",
     "text": [
      "10 epoch loss 0.004339652\n",
      "20 epoch loss 0.003687188\n",
      "30 epoch loss 0.0022869478\n",
      "40 epoch loss 0.0002696737\n"
     ]
    }
   ],
   "source": [
    "for epoch in range(num_epochs):\n",
    "    output = model(train_x)\n",
    "    loss=loss_fn(output,train_y)\n",
    "    \n",
    "    optimizer.zero_grad()\n",
    "    loss.backward()\n",
    "    optimizer.step()\n",
    "    \n",
    "    if epoch % 10==0 and epoch !=0:\n",
    "        print(epoch , \"epoch loss\", loss.detach().numpy())"
   ]
  },
  {
   "cell_type": "code",
   "execution_count": 66,
   "id": "8fe6086d",
   "metadata": {},
   "outputs": [],
   "source": [
    "model.eval()\n",
    "with torch.no_grad():\n",
    "    output=model(test_x)"
   ]
  },
  {
   "cell_type": "code",
   "execution_count": 67,
   "id": "0dbbf82c",
   "metadata": {},
   "outputs": [],
   "source": [
    "pred=mm.inverse_transform(output.numpy())\n",
    "real=mm.inverse_transform(test_y.numpy())"
   ]
  },
  {
   "cell_type": "code",
   "execution_count": 68,
   "id": "4e7d553f",
   "metadata": {},
   "outputs": [
    {
     "data": {
      "image/png": "[encoded data removed]",
      "text/plain": [
       "<Figure size 432x288 with 1 Axes>"
      ]
     },
     "metadata": {
      "needs_background": "light"
     },
     "output_type": "display_data"
    }
   ],
   "source": [
    "plt.plot(pred.squeeze(),color=\"red\",label=\"predicted\")\n",
    "plt.plot(real.squeeze(),color=\"green\",label=\"real\")\n",
    "plt.show()"
   ]
  },
  {
   "cell_type": "code",
   "execution_count": null,
   "id": "2ded6090",
   "metadata": {},
   "outputs": [],
   "source": []
  }
 ],
 "metadata": {
  "kernelspec": {
   "display_name": "Python 3 (ipykernel)",
   "language": "python",
   "name": "python3"
  },
  "language_info": {
   "codemirror_mode": {
    "name": "ipython",
    "version": 3
   },
   "file_extension": ".py",
   "mimetype": "text/x-python",
   "name": "python",
   "nbconvert_exporter": "python",
   "pygments_lexer": "ipython3",
   "version": "3.9.7"
  }
 },
 "nbformat": 4,
 "nbformat_minor": 5
}
